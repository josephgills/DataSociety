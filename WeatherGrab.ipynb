{
  "nbformat": 4,
  "nbformat_minor": 0,
  "metadata": {
    "colab": {
      "provenance": [],
      "authorship_tag": "ABX9TyPqZK5b1+zY1X7G9+xGVoz9",
      "include_colab_link": true
    },
    "kernelspec": {
      "name": "python3",
      "display_name": "Python 3"
    },
    "language_info": {
      "name": "python"
    }
  },
  "cells": [
    {
      "cell_type": "markdown",
      "metadata": {
        "id": "view-in-github",
        "colab_type": "text"
      },
      "source": [
        "<a href=\"https://colab.research.google.com/github/josephgills/DataSociety/blob/main/WeatherGrab.ipynb\" target=\"_parent\"><img src=\"https://colab.research.google.com/assets/colab-badge.svg\" alt=\"Open In Colab\"/></a>"
      ]
    },
    {
      "cell_type": "markdown",
      "source": [
        "# Temperature Grab (List Input)\n",
        "In this block of code we define the following functions:\n",
        "- parse_lat_lon: extracts a latitude and longitude in decimal format\n",
        "- get_forecast_period_by_name: extracts the forecast from the api response for a given period\n",
        "- get_forecast_temperature: retrieves the temperature from a forecast for a given period at a specific (lat, lon) position\n",
        "- get_temperatures: retrieves the temperatures from a forecast for a given period and a list of specific (lat, lon) positions\n",
        "\n",
        "## To Run:\n",
        "Hit the Play Button below and enter the desired lat,lon positions seperated by a semi-colon. When prompted enter the desired period.\n",
        "\n",
        "##Sample Input:\n",
        "38.2527° N, 85.7585° W; 38,-84\n",
        "\n",
        "Wednesday Night"
      ],
      "metadata": {
        "id": "uLVEB4X-uiI6"
      }
    },
    {
      "cell_type": "code",
      "source": [
        "import re\n",
        "import requests\n",
        "\n",
        "def parse_lat_lon(input_string):\n",
        "    # Regular expression to extract latitude and longitude\n",
        "    pattern = r'(\\d+\\.\\d+)°?\\s*([NS]),?\\s*(\\d+\\.\\d+)°?\\s*([EW])'\n",
        "    match = re.match(pattern, input_string)\n",
        "\n",
        "    if match:\n",
        "        # Extract latitude and longitude values\n",
        "        lat_deg = float(match.group(1))\n",
        "        lat_dir = 1 if match.group(2) == 'N' else -1\n",
        "        lon_deg = float(match.group(3))\n",
        "        lon_dir = 1 if match.group(4) == 'E' else -1\n",
        "\n",
        "        # Convert degrees to decimal format\n",
        "        latitude = lat_deg * lat_dir\n",
        "        longitude = lon_deg * lon_dir\n",
        "\n",
        "        return latitude, longitude, False\n",
        "    else:\n",
        "        try:\n",
        "            # Split the input string by comma and whitespace\n",
        "            parts = input_string.split(',')\n",
        "            latitude = float(parts[0])\n",
        "            longitude = float(parts[1])\n",
        "            return latitude, longitude, True\n",
        "        except Exception as e:\n",
        "            print(\"Invalid input format.\")\n",
        "            return None, None, False\n",
        "\n",
        "def get_forecast_period_by_name(period_name, forecast_data):\n",
        "    periods = forecast_data['properties']['periods']\n",
        "    period_mapping = {period['name']: period for period in periods}\n",
        "    return period_mapping.get(period_name)\n",
        "\n",
        "def get_forecast_temperature(lat_lon, period_name):\n",
        "    forecast_url = f\"https://api.weather.gov/points/{lat_lon[0]},{lat_lon[1]}\"\n",
        "\n",
        "    # Fetch metadata\n",
        "    response = requests.get(forecast_url)\n",
        "\n",
        "    if response.status_code == 200:\n",
        "        metadata = response.json()\n",
        "\n",
        "        # Get forecast URL from metadata\n",
        "        forecast_url = metadata['properties']['forecast']\n",
        "\n",
        "        # Fetch forecast data\n",
        "        response = requests.get(forecast_url)\n",
        "\n",
        "        if response.status_code == 200:\n",
        "            forecast_data = response.json()\n",
        "\n",
        "            # Get the forecast period by name\n",
        "            period = get_forecast_period_by_name(period_name, forecast_data)\n",
        "\n",
        "            if period:\n",
        "                return period['temperature'], period['temperatureUnit']\n",
        "            else:\n",
        "                return None, None\n",
        "        else:\n",
        "            print(f\"Failed to fetch forecast data: {response.status_code}\")\n",
        "            return None, None\n",
        "    else:\n",
        "        print(f\"Failed to fetch metadata: {response.status_code}\")\n",
        "        return None, None\n",
        "\n",
        "def get_temperatures(input_string, period_name):\n",
        "    # Split input by semi-colons\n",
        "    lat_lon_list = input_string.split(';')\n",
        "\n",
        "    for lat_lon_str in lat_lon_list:\n",
        "        latitude, longitude, is_decimal = parse_lat_lon(lat_lon_str.strip())\n",
        "\n",
        "        if latitude is not None and longitude is not None:\n",
        "            if is_decimal:\n",
        "                print(f\"Input: {latitude}, {longitude}\")\n",
        "            else:\n",
        "                print(f\"Input: {latitude}° N, {longitude}° W\")\n",
        "\n",
        "            temperature, unit = get_forecast_temperature((latitude, longitude), period_name)\n",
        "            if temperature and unit:\n",
        "                print(f\"Temperature for {period_name}: {temperature}°{unit}\")\n",
        "            else:\n",
        "                print(f\"Temperature for {period_name} not available.\")\n",
        "            print()\n",
        "        else:\n",
        "            print(\"Invalid input format.\")\n",
        "\n",
        "if __name__ == \"__main__\":\n",
        "    # User input\n",
        "    input_string = input(\"Enter a list of latitude and longitude pairs (in decimal format) or in the format '38.2527° N, 85.7585° W', separated by semi-colons: \")\n",
        "    period_name = input(\"Select the forecast period name (e.g., 'Wednesday', 'Wednesday Night', etc.): \")\n",
        "    get_temperatures(input_string,period_name);"
      ],
      "metadata": {
        "id": "uq3h_bzM0L_J",
        "outputId": "fa6546df-6395-4ec5-ca54-21ca91aaa8b2",
        "colab": {
          "base_uri": "https://localhost:8080/"
        }
      },
      "execution_count": 44,
      "outputs": [
        {
          "output_type": "stream",
          "name": "stdout",
          "text": [
            "Enter a list of latitude and longitude pairs (in decimal format) or in the format '38.2527° N, 85.7585° W', separated by semi-colons: 38.2527° N, 85.7585° W; 38,-84\n",
            "Select the forecast period name (e.g., 'Wednesday', 'Wednesday Night', etc.): Wednesday Night\n",
            "Input: 38.2527° N, -85.7585° W\n",
            "Temperature for Wednesday Night: 29°F\n",
            "\n",
            "Input: 38.0, -84.0\n",
            "Temperature for Wednesday Night: 26°F\n",
            "\n"
          ]
        }
      ]
    }
  ]
}