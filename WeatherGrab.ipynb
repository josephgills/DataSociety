{
  "nbformat": 4,
  "nbformat_minor": 0,
  "metadata": {
    "colab": {
      "provenance": [],
      "authorship_tag": "ABX9TyNFlF+hpkvpIZyvq3M5I+z3",
      "include_colab_link": true
    },
    "kernelspec": {
      "name": "python3",
      "display_name": "Python 3"
    },
    "language_info": {
      "name": "python"
    }
  },
  "cells": [
    {
      "cell_type": "markdown",
      "metadata": {
        "id": "view-in-github",
        "colab_type": "text"
      },
      "source": [
        "<a href=\"https://colab.research.google.com/github/josephgills/DataSociety/blob/main/WeatherGrab.ipynb\" target=\"_parent\"><img src=\"https://colab.research.google.com/assets/colab-badge.svg\" alt=\"Open In Colab\"/></a>"
      ]
    },
    {
      "cell_type": "markdown",
      "source": [
        "# New Section"
      ],
      "metadata": {
        "id": "P965OK-mu69t"
      }
    },
    {
      "cell_type": "code",
      "source": [
        "import re\n",
        "import requests\n",
        "from datetime import datetime, timedelta\n",
        "\n",
        "def parse_lat_lon(input_string):\n",
        "    # Regular expression to extract latitude and longitude\n",
        "    pattern = r'(\\d+\\.\\d+)°?\\s*([NS]),?\\s*(\\d+\\.\\d+)°?\\s*([EW])'\n",
        "    match = re.match(pattern, input_string)\n",
        "\n",
        "    if match:\n",
        "        # Extract latitude and longitude values\n",
        "        lat_deg = float(match.group(1))\n",
        "        lat_dir = 1 if match.group(2) == 'N' else -1\n",
        "        lon_deg = float(match.group(3))\n",
        "        lon_dir = 1 if match.group(4) == 'E' else -1\n",
        "\n",
        "        # Convert degrees to decimal format\n",
        "        latitude = lat_deg * lat_dir\n",
        "        longitude = lon_deg * lon_dir\n",
        "\n",
        "        return latitude, longitude\n",
        "    else:\n",
        "        try:\n",
        "            # Split the input string by comma and whitespace\n",
        "            parts = input_string.split(',')\n",
        "            latitude = float(parts[0])\n",
        "            longitude = float(parts[1])\n",
        "            return latitude, longitude\n",
        "        except Exception as e:\n",
        "            print(\"Invalid input format.\")\n",
        "            return None, None\n",
        "\n",
        "def get_forecast_period_by_name(period_name, forecast_data):\n",
        "    periods = forecast_data['properties']['periods']\n",
        "    for period in periods:\n",
        "        if period['name'] == period_name:\n",
        "            return period\n",
        "    return None\n",
        "\n",
        "def get_forecast_temperature(lat_lon, period_name):\n",
        "    forecast_url = f\"https://api.weather.gov/points/{lat_lon[0]},{lat_lon[1]}\"\n",
        "\n",
        "    # Fetch metadata\n",
        "    response = requests.get(forecast_url)\n",
        "    metadata = response.json()\n",
        "\n",
        "    # Get forecast URL from metadata\n",
        "    forecast_url = metadata['properties']['forecast']\n",
        "\n",
        "    # Fetch forecast data\n",
        "    response = requests.get(forecast_url)\n",
        "    forecast_data = response.json()\n",
        "\n",
        "    # Get the forecast period by name\n",
        "    period = get_forecast_period_by_name(period_name, forecast_data)\n",
        "\n",
        "    if period:\n",
        "        return period['temperature'], period['temperatureUnit']\n",
        "    else:\n",
        "        return None, None\n",
        "\n",
        "if __name__ == \"__main__\":\n",
        "    # User input\n",
        "    input_string = input(\"Enter a latitude and longitude (in decimal format) or in the format '38.2527° N, 85.7585° W': \")\n",
        "    period_name = input(\"Select the forecast period name (e.g., 'Wednesday', 'Wednesday Night', etc.): \")\n",
        "\n",
        "    latitude, longitude = parse_lat_lon(input_string)\n",
        "\n",
        "    if latitude is not None and longitude is not None:\n",
        "        temperature, unit = get_forecast_temperature((latitude, longitude), period_name)\n",
        "        if temperature and unit:\n",
        "            print(f\"Temperature for {period_name} at {latitude}° N, {longitude}° W: {temperature}°{unit}\")\n",
        "        else:\n",
        "            print(f\"Temperature for {period_name} at {latitude}° N, {longitude}° W not available.\")\n",
        "    else:\n",
        "        print(\"Invalid input format.\")"
      ],
      "metadata": {
        "id": "134vLM199Qld",
        "outputId": "4715dcf3-1c21-44c0-8a75-c9db0ae5449c",
        "colab": {
          "base_uri": "https://localhost:8080/"
        }
      },
      "execution_count": 30,
      "outputs": [
        {
          "output_type": "stream",
          "name": "stdout",
          "text": [
            "Enter a latitude and longitude (in decimal format) or in the format '38.2527° N, 85.7585° W': 38.2527° N, 85.7585° W\n",
            "Select the forecast period name (e.g., 'Wednesday', 'Wednesday Night', etc.): Wednesday\n",
            "Temperature for Wednesday at 38.2527° N, -85.7585° W: 58°F\n"
          ]
        }
      ]
    }
  ]
}