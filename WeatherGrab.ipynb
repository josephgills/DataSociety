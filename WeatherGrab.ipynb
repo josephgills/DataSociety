{
  "nbformat": 4,
  "nbformat_minor": 0,
  "metadata": {
    "colab": {
      "provenance": [],
      "authorship_tag": "ABX9TyMHLNE/Rk5YotKRInSDRwn9",
      "include_colab_link": true
    },
    "kernelspec": {
      "name": "python3",
      "display_name": "Python 3"
    },
    "language_info": {
      "name": "python"
    }
  },
  "cells": [
    {
      "cell_type": "markdown",
      "metadata": {
        "id": "view-in-github",
        "colab_type": "text"
      },
      "source": [
        "<a href=\"https://colab.research.google.com/github/josephgills/DataSociety/blob/main/WeatherGrab.ipynb\" target=\"_parent\"><img src=\"https://colab.research.google.com/assets/colab-badge.svg\" alt=\"Open In Colab\"/></a>"
      ]
    },
    {
      "cell_type": "markdown",
      "source": [
        "# Temperature Grab (List Input)"
      ],
      "metadata": {
        "id": "uLVEB4X-uiI6"
      }
    },
    {
      "cell_type": "code",
      "source": [
        "import re\n",
        "import requests\n",
        "\n",
        "def parse_lat_lon(input_string):\n",
        "    # Regular expression to extract latitude and longitude\n",
        "    pattern = r'(\\d+\\.\\d+)°?\\s*([NS]),?\\s*(\\d+\\.\\d+)°?\\s*([EW])'\n",
        "    match = re.match(pattern, input_string)\n",
        "\n",
        "    if match:\n",
        "        # Extract latitude and longitude values\n",
        "        lat_deg = float(match.group(1))\n",
        "        lat_dir = 1 if match.group(2) == 'N' else -1\n",
        "        lon_deg = float(match.group(3))\n",
        "        lon_dir = 1 if match.group(4) == 'E' else -1\n",
        "\n",
        "        # Convert degrees to decimal format\n",
        "        latitude = lat_deg * lat_dir\n",
        "        longitude = lon_deg * lon_dir\n",
        "\n",
        "        return latitude, longitude, False\n",
        "    else:\n",
        "        try:\n",
        "            # Split the input string by comma and whitespace\n",
        "            parts = input_string.split(',')\n",
        "            latitude = float(parts[0])\n",
        "            longitude = float(parts[1])\n",
        "            return latitude, longitude, True\n",
        "        except Exception as e:\n",
        "            print(\"Invalid input format.\")\n",
        "            return None, None, False\n",
        "\n",
        "def get_forecast_period_by_name(period_name, forecast_data):\n",
        "    periods = forecast_data['properties']['periods']\n",
        "    period_mapping = {period['name']: period for period in periods}\n",
        "    return period_mapping.get(period_name)\n",
        "\n",
        "def get_forecast_temperature(lat_lon, period_name):\n",
        "    forecast_url = f\"https://api.weather.gov/points/{lat_lon[0]},{lat_lon[1]}\"\n",
        "\n",
        "    # Fetch metadata\n",
        "    response = requests.get(forecast_url)\n",
        "\n",
        "    if response.status_code == 200:\n",
        "        metadata = response.json()\n",
        "\n",
        "        # Get forecast URL from metadata\n",
        "        forecast_url = metadata['properties']['forecast']\n",
        "\n",
        "        # Fetch forecast data\n",
        "        response = requests.get(forecast_url)\n",
        "\n",
        "        if response.status_code == 200:\n",
        "            forecast_data = response.json()\n",
        "\n",
        "            # Get the forecast period by name\n",
        "            period = get_forecast_period_by_name(period_name, forecast_data)\n",
        "\n",
        "            if period:\n",
        "                return period['temperature'], period['temperatureUnit']\n",
        "            else:\n",
        "                return None, None\n",
        "        else:\n",
        "            print(f\"Failed to fetch forecast data: {response.status_code}\")\n",
        "            return None, None\n",
        "    else:\n",
        "        print(f\"Failed to fetch metadata: {response.status_code}\")\n",
        "        return None, None\n",
        "\n",
        "def get_temperatures(input_string, period_name):\n",
        "    # Split input by semi-colons\n",
        "    lat_lon_list = input_string.split(';')\n",
        "\n",
        "    for lat_lon_str in lat_lon_list:\n",
        "        latitude, longitude, is_decimal = parse_lat_lon(lat_lon_str.strip())\n",
        "\n",
        "        if latitude is not None and longitude is not None:\n",
        "            if is_decimal:\n",
        "                print(f\"Input: {latitude}, {longitude}\")\n",
        "            else:\n",
        "                print(f\"Input: {latitude}° N, {longitude}° W\")\n",
        "\n",
        "            temperature, unit = get_forecast_temperature((latitude, longitude), period_name)\n",
        "            if temperature and unit:\n",
        "                print(f\"Temperature for {period_name}: {temperature}°{unit}\")\n",
        "            else:\n",
        "                print(f\"Temperature for {period_name} not available.\")\n",
        "            print()\n",
        "        else:\n",
        "            print(\"Invalid input format.\")\n",
        "\n",
        "if __name__ == \"__main__\":\n",
        "    # User input\n",
        "    input_string = input(\"Enter a list of latitude and longitude pairs (in decimal format) or in the format '38.2527° N, 85.7585° W', separated by semi-colons: \")\n",
        "    period_name = input(\"Select the forecast period name (e.g., 'Wednesday', 'Wednesday Night', etc.): \")\n",
        "    get_temperatures(input_string, period_name)"
      ],
      "metadata": {
        "id": "uq3h_bzM0L_J",
        "outputId": "26e306ba-09e8-4fcf-8fa6-ad96c38cfbc7",
        "colab": {
          "base_uri": "https://localhost:8080/"
        }
      },
      "execution_count": 20,
      "outputs": [
        {
          "output_type": "stream",
          "name": "stdout",
          "text": [
            "Enter a list of latitude and longitude pairs (in decimal format) or in the format '38.2527° N, 85.7585° W', separated by semi-colons: 0,0;1,1\n",
            "Select the forecast period name (e.g., 'Wednesday', 'Wednesday Night', etc.): Wednesday\n",
            "Input: 0.0, 0.0\n",
            "Failed to fetch metadata: 404\n",
            "Temperature for Wednesday not available.\n",
            "\n",
            "Input: 1.0, 1.0\n",
            "Failed to fetch metadata: 404\n",
            "Temperature for Wednesday not available.\n",
            "\n"
          ]
        }
      ]
    }
  ]
}